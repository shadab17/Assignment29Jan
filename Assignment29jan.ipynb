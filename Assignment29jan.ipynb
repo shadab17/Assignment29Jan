{
 "cells": [
  {
   "cell_type": "markdown",
   "id": "7c62843e-6195-4a9e-b8f8-cea24a666120",
   "metadata": {},
   "source": [
    "Question 1 : Who developed Python Programming Language?\n",
    "Answer : Guido van Rossum developed Python Programming Launguage.\n",
    "\n",
    "Question 2 : Which type of programming does python support?\n",
    "Answer : Python is an interpreted programming language, supporting object oriented, structured and unctional programming.\n",
    "\n",
    "Question 3 : Is Python case sensitive while dealing with identifiers?\n",
    "Answer : Yes, Python is case sensitive while dealing with identifiers.\n",
    "\n",
    "Question 4 : What is the currect extention of the Python file?\n",
    "Answer : '.py' is currect extention of the Python file.\n",
    "\n",
    "Question 5 : Is Pyhthon code compiled or interpreted?\n",
    "Answer : Python code is interpreted.\n",
    "\n",
    "Question 6 : Name few blocks of code udes to used to define in Python Language?\n",
    "Answer : Indentation is used to define the blocks of code.\n",
    "\n",
    "Question 7 : State of charactor used to give a single line comment in Python?\n",
    "Answer : we use ## to give single line comment in Python.\n",
    "\n",
    "Question 8 : Mention functions which can help us to find the version of Python thatwe are currently working on?\n",
    "Answer : function is sys.version\n",
    "\n",
    "Question 9 : Python support anonymous funtion at runtime, using a construct called \n",
    "Answer : \"lambda\"\n",
    "\n",
    "Question 10 : What does pip stand for Python?\n",
    "Answer : pip is a package manager for Python. Package manager is a programming language tool which help us to install any external dependencies very easily. \n",
    "\n",
    "Question 11 : Maintion a few built-in functions in Python.\n",
    "Answer : apeend, value, pop, delete, items, extend, insert, remove... ect\n",
    "\n",
    "Question 12 : What is the maximum possible length of identifier in Python?\n",
    "Answer : An Identifier have maximum length of 79 characters.\n",
    "\n",
    "Question 13 : What are the benefit of using Python?\n",
    "Answer : Python programming language is a general purpose interpreted and high level language that mainly offers code readability. It is largely used by professional programmers and developers across a variety of field including Web Development and Machine Learning.\n",
    "\n",
    "Question 14 : How is mamory managed in Python?\n",
    "Answer : Memory managed in python involve a private heap containing all python objects and data structure. The management of this private heap is ensured internally by python memory manager.\n",
    "\n",
    "Question 15 : How to install Python in Windows and set path variables?\n",
    "Answer : First I have to visit python.org From here I weill download and install Python \n",
    "         Right-clicking This PC and going to Properties.\n",
    "        Clicking on the Advanced system settings in the menu on the left.\n",
    "        Clicking on the Environment Variables button on the bottom right.\n",
    "        In the System variables section, selecting the Path variable and clicking on Edit. The next screen will show all the directories that are currently a part of the PATH variable.\n",
    "        Clicking on New and entering Python’s install directory.\n",
    "        \n",
    "Question 16 : Is indentation required in Python?  \n",
    "Answer :  The indentation in Python is ver important. Python uses indentation to indicate a block of code."
   ]
  }
 ],
 "metadata": {
  "kernelspec": {
   "display_name": "Python 3 (ipykernel)",
   "language": "python",
   "name": "python3"
  },
  "language_info": {
   "codemirror_mode": {
    "name": "ipython",
    "version": 3
   },
   "file_extension": ".py",
   "mimetype": "text/x-python",
   "name": "python",
   "nbconvert_exporter": "python",
   "pygments_lexer": "ipython3",
   "version": "3.10.8"
  }
 },
 "nbformat": 4,
 "nbformat_minor": 5
}
